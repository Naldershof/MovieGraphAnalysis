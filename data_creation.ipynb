{
 "cells": [
  {
   "cell_type": "code",
   "execution_count": 60,
   "metadata": {
    "collapsed": true
   },
   "outputs": [],
   "source": [
    "import requests\n",
    "import pandas as pd\n",
    "import json\n",
    "\n",
    "# Movie ids coming from http://files.tmdb.org/p/exports/movie_ids_10_20_2020.json.gz\n",
    "import matplotlib.pyplot as plt\n",
    "import seaborn as sns\n",
    "import tqdm\n",
    "\n",
    "%matplotlib inline\n",
    "\n",
    "try:\n",
    "    fp = open('api_key.txt')\n",
    "    api_key = fp.readline()\n",
    "finally:\n",
    "    fp.close()"
   ]
  },
  {
   "cell_type": "code",
   "execution_count": 62,
   "metadata": {
    "collapsed": false
   },
   "outputs": [],
   "source": [
    "tmp = pd.read_json(\"movie_ids_10_20_2020.json\", lines=True)\n",
    "all_movies = tmp.sort_values('popularity', ascending=False).head(10000).copy()\n",
    "del(tmp)"
   ]
  },
  {
   "cell_type": "code",
   "execution_count": 11,
   "metadata": {
    "collapsed": false
   },
   "outputs": [
    {
     "name": "stderr",
     "output_type": "stream",
     "text": [
      "100%|████████████████████████████████████████████████████████████████████████████| 10000/10000 [20:02<00:00,  8.32it/s]\n"
     ]
    }
   ],
   "source": [
    "# Getting Full info for all these movies\n",
    "info_list = []\n",
    "\n",
    "for m_id in tqdm.tqdm(list(all_movies.id)):\n",
    "    r = requests.get('https://api.themoviedb.org/3/movie/{}?api_key={}'.format(m_id, api_key))\n",
    "    info_list.append(json.loads(r.content.decode(encoding=\"ascii\", errors=\"ignore\")))"
   ]
  },
  {
   "cell_type": "code",
   "execution_count": 12,
   "metadata": {
    "collapsed": false,
    "scrolled": true
   },
   "outputs": [
    {
     "name": "stderr",
     "output_type": "stream",
     "text": [
      "100%|████████████████████████████████████████████████████████████████████████████| 10000/10000 [20:31<00:00,  8.12it/s]\n"
     ]
    }
   ],
   "source": [
    "# Getting Cast List for all these movies\n",
    "credit_list = []\n",
    "\n",
    "for m_id in tqdm.tqdm(list(all_movies.id)):\n",
    "    r = requests.get('https://api.themoviedb.org/3/movie/{}/credits?api_key={}'.format(m_id, api_key))\n",
    "    credit_list.append(json.loads(r.content.decode(encoding=\"ascii\", errors=\"ignore\")))"
   ]
  },
  {
   "cell_type": "code",
   "execution_count": 13,
   "metadata": {
    "collapsed": true
   },
   "outputs": [],
   "source": [
    "# So we can come back and get the names of all these actors later if we need to. Really ids are totally fine for this"
   ]
  },
  {
   "cell_type": "code",
   "execution_count": 20,
   "metadata": {
    "collapsed": false
   },
   "outputs": [],
   "source": [
    "movie_records = []\n",
    "movie_features = ['adult','id','popularity','original_title','original_langue',\n",
    "                  'release_date','revenue', 'vote_average', 'vote_count', 'budget']\n",
    "\n",
    "for inf in info_list:\n",
    "    try:\n",
    "        movie_records.append([inf.get(key) for key in movie_features])\n",
    "    except:\n",
    "        print('failed on: {}'.format(inf['original_title']))\n",
    "\n",
    "movie_df = pd.DataFrame(movie_records, columns=movie_features)"
   ]
  },
  {
   "cell_type": "code",
   "execution_count": 41,
   "metadata": {
    "collapsed": false
   },
   "outputs": [],
   "source": [
    "# So this doesn't include the movieid, so that'll be important to incldue zip in the id too\n",
    "\n",
    "cast_features = ['gender', 'id', 'name', 'order']\n",
    "\n",
    "cast_records = []\n",
    "for m_id, cast in zip(list(all_movies.id), credit_list):\n",
    "    # Sometimes you get some crap status codes, I could handle this better but meh\n",
    "    try: \n",
    "        for char in cast['cast']:\n",
    "            tmp_list = []\n",
    "            cst_list = [char.get(key) for key in cast_features]\n",
    "            tmp_list.extend(cst_list)\n",
    "            tmp_list.append(m_id)\n",
    "            cast_records.append(tmp_list)\n",
    "    except:\n",
    "        pass\n",
    "    \n",
    "cast_df = pd.DataFrame(cast_records, columns=cast_features+['m_id'])"
   ]
  },
  {
   "cell_type": "code",
   "execution_count": 50,
   "metadata": {
    "collapsed": false
   },
   "outputs": [],
   "source": [
    "# So this doesn't include the movieid, so that'll be important to incldue zip in the id too\n",
    "\n",
    "cast_features = ['gender', 'id', 'name', 'order']\n",
    "\n",
    "cast_records = []\n",
    "for m_id, cast in zip(list(all_movies.id), credit_list):\n",
    "    # Sometimes you get some crap status codes, I could handle this better but meh\n",
    "    try: \n",
    "        for char in cast['cast']:\n",
    "            tmp_list = []\n",
    "            cst_list = [char.get(key) for key in cast_features]\n",
    "            tmp_list.extend(cst_list)\n",
    "            tmp_list.append(m_id)\n",
    "            cast_records.append(tmp_list)\n",
    "    except:\n",
    "        pass\n",
    "    \n",
    "cast_df = pd.DataFrame(cast_records, columns=cast_features+['m_id'])\n",
    "\n",
    "crew_features = ['gender', 'department', 'id', 'job', 'name']\n",
    "\n",
    "crew_records = []\n",
    "for m_id, cast in zip(list(all_movies.id), credit_list):\n",
    "    # Sometimes you get some crap status codes, I could handle this better but meh\n",
    "    try: \n",
    "        for char in cast['crew']:\n",
    "            tmp_list = []\n",
    "            crw_list = [char.get(key) for key in crew_features]\n",
    "            tmp_list.extend(crw_list)\n",
    "            tmp_list.append(m_id)\n",
    "            crew_records.append(tmp_list)\n",
    "    except:\n",
    "        pass\n",
    "    \n",
    "crew_df = pd.DataFrame(crew_records, columns=crew_features+['m_id'])"
   ]
  },
  {
   "cell_type": "code",
   "execution_count": 67,
   "metadata": {
    "collapsed": false
   },
   "outputs": [],
   "source": [
    "cast_df.to_csv('cast_df.csv')\n",
    "crew_df.to_csv('crew_df.csv')\n",
    "movie_df.to_csv('movie_df.csv')"
   ]
  },
  {
   "cell_type": "code",
   "execution_count": null,
   "metadata": {
    "collapsed": true
   },
   "outputs": [],
   "source": []
  }
 ],
 "metadata": {
  "kernelspec": {
   "display_name": "Python 3",
   "language": "python",
   "name": "python3"
  },
  "language_info": {
   "codemirror_mode": {
    "name": "ipython",
    "version": 3
   },
   "file_extension": ".py",
   "mimetype": "text/x-python",
   "name": "python",
   "nbconvert_exporter": "python",
   "pygments_lexer": "ipython3",
   "version": "3.6.0"
  }
 },
 "nbformat": 4,
 "nbformat_minor": 2
}
